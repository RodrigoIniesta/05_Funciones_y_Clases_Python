{
 "cells": [
  {
   "cell_type": "markdown",
   "metadata": {},
   "source": [
    "# Introduction to functions and classes in Phyton"
   ]
  },
  {
   "cell_type": "markdown",
   "metadata": {},
   "source": [
    "    \n",
    "1. How to create functions\n",
    "2. How to create classes in Phyton\n",
    "3. Principles of the object oriented programing\n",
    "\n",
    "The first goal is to create a file that we can reuse\n",
    "1. \n",
    "Class: is a user defined blueprint or prototype from which objects are created. They have attributes that all the objects that belong to class have.  \n",
    "To create a class you must write (with the first letter in capitalcase)  \n",
    "  \n",
    "class Name_of_the_class  \n",
    "&nbsp; def __init__(self,attrib1,attrib2,...)  \n",
    "&ensp; self.nameattrib1=attrib1  \n",
    "&ensp;  self.nameattrib2=attrib2  \n",
    "&ensp;  ...  \n",
    "\n",
    "Objects: are variables that can contain data and functions that can be used to manipulate the data  \n",
    "To create an object we must write \n",
    "\n",
    "&nbsp;Name_of_object=Name_of_the_class(attrib1, attrib2,...)\n",
    "\n",
    "Functions: are some instructions that a program must follow to generate some outputs after we give it some inputs and this is their main objective\n",
    "\n",
    "To create a function  \n",
    "def name_of_funtion (param1, param2,...):  \n",
    "&nbsp; operations1  \n",
    "&nbsp; operations2  \n",
    "&nbsp; return (some_result) \n",
    "  \n",
    "Methods: are functions that works inside a class. Are functions that are associated with an object and can manipulate its data or perfom actions in it \n",
    "\n",
    "Note: Remember to use the correct identation\n",
    "\n",
    "\n",
    "\n",
    "3. The four principles of object oriented programing are the following ones\n",
    "    - Encapsulation: Hide the data of implementation by restricting acces to public methods. Instance variables are kept private and accesor methods are made public. \"Hide the code to only call the class\"\n",
    "    - Abstraction: A concept or idea which is not associated with any particula instance. One class should not know the inner details of another in order to use it, just knowing the interfaces should be good enough. \n",
    "    - Inheritance:Expresses \"is-a\" and/or \"has-a\" relationship between to objects. \n",
    "    - Polymorphism: One name many forms It is further of two types -static and dynamic. \n",
    "    \n",
    "As example we are usign the code of the last lesson to create a class (writed in pseudo code as follow)\n"
   ]
  },
  {
   "cell_type": "code",
   "execution_count": 7,
   "metadata": {},
   "outputs": [
    {
     "name": "stdout",
     "output_type": "stream",
     "text": [
      "prueba de swap a ver si jala con subyacente tiie\n"
     ]
    }
   ],
   "source": [
    "class Instrument:\n",
    "    def __init__(self,asset,underlying):\n",
    "        self.asset1=asset\n",
    "        self.underlying=underlying\n",
    "\n",
    "test=Instrument('swap', 'tiie') \n",
    "print(f'prueba de {test.asset1} a ver si jala con subyacente {test.underlying}')"
   ]
  },
  {
   "cell_type": "code",
   "execution_count": 8,
   "metadata": {},
   "outputs": [
    {
     "name": "stdout",
     "output_type": "stream",
     "text": [
      "3\n"
     ]
    }
   ],
   "source": [
    "def test(a,b):\n",
    "    return a+b\n",
    "\n",
    "x=test(1,2)\n",
    "print(x)"
   ]
  },
  {
   "cell_type": "markdown",
   "metadata": {},
   "source": [
    "\n"
   ]
  },
  {
   "cell_type": "markdown",
   "metadata": {},
   "source": [
    "data_type = 'simulacion' #simulacion real custom\n",
    "variable_name = 'normal' #normal,student,...\n",
    "dm = class_distribution_manager()  #we are creating a \"class\"\n",
    "dm.load_timeseries(data_type,variable_type,bool_plot=True)\n",
    "dm.compute()\n",
    "dm.hitogram() \n",
    "print(dm)"
   ]
  },
  {
   "cell_type": "markdown",
   "metadata": {},
   "source": [
    "And each part of the code is calling the class that encapsule the lines in the next one for each section"
   ]
  },
  {
   "cell_type": "code",
   "execution_count": null,
   "metadata": {},
   "outputs": [],
   "source": [
    "import pandas as pd\n",
    "import numpy as np\n",
    "import matplotlib as mpl\n",
    "import matplotlib.pyplot as plt\n",
    "import scipy\n",
    "import importlib\n",
    "from scipy.stats import skew,kurtosis,chi2\n",
    "\n",
    "########################################################################################################################\n",
    "####load_timeseries(data_type,variable_type,bool_plot=True) # to create a time series or upload one###\n",
    "#### get market data ####\n",
    "file='BBVA.MC'\n",
    "#file='^VIX'\n",
    "#file='MXN=X'\n",
    "path = 'C:\\\\Users\\\\rodrigo\\\\Documents\\\\Finanzas Cuantitativas con Python\\\\4_Analisis_Market_Data\\\\'+file+'.csv'\n",
    "raw_data = pd.read_csv(path)\n",
    "#x = raw_data['Close'] #Formato Series (indice mas valores)\n",
    "x = raw_data['Close'].values #Formato arreglo de valores (solo valores)\n",
    "#data_lenght=len(x) #obtener la longitud del vectos = cantidad de datos\n",
    "data_lenght=raw_data.shape [0] #longitud desde las caracteristicas del arreglo\n",
    "########################################################################################################################\n",
    "### compute() # to clean the data and compute the returns of the date created in the last step###\n",
    "###Create returns of the series in another file###\n",
    "t = pd.DataFrame()\n",
    "#t['date']=raw_data['Date']\n",
    "#type(t['date'][0]) #checking the data type\n",
    "t['date'] = pd.to_datetime(raw_data['Date'],dayfirst=True) #convert the data type to date instead of string\n",
    "t['close'] = raw_data['Close']\n",
    "t.sort_values(by='date',ascending = True)\n",
    "for i in range(data_lenght-1):\n",
    "    if pd.isna(t['close'][i]): #Check if the data is nan y fill it withe last one\n",
    "        t['close'][i]=t['close'][i-1]\n",
    "t['close_shift_1'] = t['close'].shift(1) #create a column with the shifted data by row\n",
    "t['return']=t['close']/t['close_shift_1']-1 \n",
    "t=t.dropna() #erase row that have nan\n",
    "t=t.reset_index(drop=True) #to reste the index of the table as we erase some lines\n",
    "x=t['return'].values\n",
    "\n",
    "##JarqueVera###\n",
    "x_variance=np.var(x) \n",
    "x_skew = skew(x)\n",
    "x_kurtosis = kurtosis(x) #Esta Kurtosis ya esta en exceso (K-3)\n",
    "x_jarque_bera = data_lenght/6*(x_skew**2+1/4*x_kurtosis**2)\n",
    "p_value = 1 - chi2.cdf(x_jarque_bera,df=2)\n",
    "x_is_normal = (p_value>0.05)  #para revisar si el p_value es mayor 1-.95\n",
    "########################################################################################################################\n",
    "###dm.hitogram() #create an histogram for example or plot the data created\n",
    "#plot time series of time\n",
    "plt.figure()\n",
    "plt.plot(t['date'],t['close'])\n",
    "plt.title('Time series of '+ file)\n",
    "plt.xlabel('Time')\n",
    "plt.ylabel('Price')\n",
    "plt.show()\n",
    "\n",
    "#jb_list = [] #create a list\n",
    "#jb_list.append(x_jarque_bera) #Para ir apilando los resultados correr varias veces\n",
    "x_desc = 'market data ' +  file\n",
    "print('kurtosis is ' + str(x_kurtosis)) \n",
    "print('skew is ' + str(x_skew))\n",
    "print('Jarque-Bera statistic is ' + str(x_jarque_bera))\n",
    "print('p-value is :' + str(p_value))\n",
    "print('is normal ' + str(x_is_normal))"
   ]
  }
 ],
 "metadata": {
  "kernelspec": {
   "display_name": "Python 3",
   "language": "python",
   "name": "python3"
  },
  "language_info": {
   "codemirror_mode": {
    "name": "ipython",
    "version": 3
   },
   "file_extension": ".py",
   "mimetype": "text/x-python",
   "name": "python",
   "nbconvert_exporter": "python",
   "pygments_lexer": "ipython3",
   "version": "3.8.5"
  }
 },
 "nbformat": 4,
 "nbformat_minor": 4
}
